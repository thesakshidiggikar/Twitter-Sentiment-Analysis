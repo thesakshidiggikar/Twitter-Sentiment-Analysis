{
 "cells": [
  {
   "cell_type": "markdown",
   "metadata": {},
   "source": [
    "Importing the Libraries required"
   ]
  },
  {
   "cell_type": "code",
   "execution_count": null,
   "metadata": {},
   "outputs": [],
   "source": [
    "import re\n",
    "import tweepy\n",
    "from tweepy import OAuth1UserHandler\n",
    "from textblob import TextBlob"
   ]
  },
  {
   "cell_type": "markdown",
   "metadata": {},
   "source": [
    "Add your barear key for search "
   ]
  },
  {
   "cell_type": "code",
   "execution_count": null,
   "metadata": {},
   "outputs": [],
   "source": [
    "bearer_token = \"add-your-bearer-token\"\n",
    "\n",
    "client = tweepy.Client(bearer_token=bearer_token, wait_on_rate_limit=True)"
   ]
  },
  {
   "cell_type": "markdown",
   "metadata": {},
   "source": [
    "Your Key-tokens"
   ]
  },
  {
   "cell_type": "code",
   "execution_count": 8,
   "metadata": {},
   "outputs": [],
   "source": [
    "consumer_key = 'your-consumer-key'\n",
    "consumer_secret = \"your-consumer_secret\"\n",
    "access_token = \"your-access_token\"\n",
    "access_token_secret = \"your-access_token_secret\""
   ]
  },
  {
   "cell_type": "markdown",
   "metadata": {},
   "source": [
    "Check if your Authentication is successfull for not"
   ]
  },
  {
   "cell_type": "code",
   "execution_count": 9,
   "metadata": {},
   "outputs": [
    {
     "name": "stdout",
     "output_type": "stream",
     "text": [
      "Error: Authentication Failed - Failed to send request: Could not find a suitable TLS CA certificate bundle, invalid path: E:\\MCA\\Sem 2\\Project\\Sign-Language-To-Text-Conversion-main\\.conda\\Library\\ssl\\cacert.pem\n"
     ]
    }
   ],
   "source": [
    "import tweepy\n",
    "\n",
    "try:\n",
    "    # Create OAuthHandler object\n",
    "    auth = tweepy.OAuth1UserHandler(consumer_key, consumer_secret)\n",
    "\n",
    "    # Set access token and secret\n",
    "    auth.set_access_token(access_token, access_token_secret)\n",
    "\n",
    "    # Create Tweepy API object to fetch tweets\n",
    "    api = tweepy.API(auth)\n",
    "\n",
    "    # Verify credentials\n",
    "    user = api.verify_credentials()\n",
    "    print(f\"Authentication successful! Logged in as: {user.screen_name}\")\n",
    "\n",
    "except tweepy.TweepyException as e:\n",
    "    print(f\"Error: Authentication Failed - {str(e)}\")\n",
    "except Exception as e:\n",
    "    print(f\"Unexpected Error: {str(e)}\")"
   ]
  },
  {
   "cell_type": "markdown",
   "metadata": {},
   "source": [
    "i got error i above bcox of i haven't put the keys, Recommended to do in Colab so that you will not get error for TLS CA certificate bundle  "
   ]
  },
  {
   "cell_type": "code",
   "execution_count": 10,
   "metadata": {},
   "outputs": [],
   "source": [
    "import os\n",
    "import tweepy\n",
    "\n",
    "# Fetch the token from the environment variable\n",
    "bearer_token = os.getenv(\"TWITTER_BEARER_TOKEN\")\n",
    "\n",
    "client = tweepy.Client(bearer_token=bearer_token, wait_on_rate_limit=True)"
   ]
  },
  {
   "cell_type": "markdown",
   "metadata": {},
   "source": [
    "Here we are searching  for the Tweets in  field/interest of IPL"
   ]
  },
  {
   "cell_type": "code",
   "execution_count": null,
   "metadata": {},
   "outputs": [],
   "source": [
    "import tweepy\n",
    "\n",
    "# Twitter API v2 credentials\n",
    "bearer_token = \"add-your-bearer-token\"\n",
    "\n",
    "client = tweepy.Client(bearer_token=bearer_token, wait_on_rate_limit=True)\n",
    "\n",
    "try:\n",
    "    # Fetch recent tweets containing \"IPL\"\n",
    "    response = client.search_recent_tweets(query=\"IPL\", max_results=10)  # Max is 100\n",
    "\n",
    "    # Print tweets\n",
    "    if response.data:\n",
    "        for tweet in response.data:\n",
    "            print(tweet.text)\n",
    "    else:\n",
    "        print(\"No tweets found.\")\n",
    "\n",
    "except tweepy.TweepyException as e:\n",
    "    print(f\"Error: {e}\")"
   ]
  },
  {
   "cell_type": "markdown",
   "metadata": {},
   "source": [
    "creates a TextBlob object from the tweet's text, enabling sentiment analysis and NLP operations."
   ]
  },
  {
   "cell_type": "code",
   "execution_count": null,
   "metadata": {},
   "outputs": [],
   "source": [
    "analysis = TextBlob(tweet.text)"
   ]
  },
  {
   "cell_type": "markdown",
   "metadata": {},
   "source": [
    "Now this display it using Neutral , Happy or sad"
   ]
  },
  {
   "cell_type": "code",
   "execution_count": null,
   "metadata": {},
   "outputs": [],
   "source": [
    "print(analysis.sentiment)"
   ]
  }
 ],
 "metadata": {
  "kernelspec": {
   "display_name": "Python 3",
   "language": "python",
   "name": "python3"
  },
  "language_info": {
   "codemirror_mode": {
    "name": "ipython",
    "version": 3
   },
   "file_extension": ".py",
   "mimetype": "text/x-python",
   "name": "python",
   "nbconvert_exporter": "python",
   "pygments_lexer": "ipython3",
   "version": "3.12.2"
  }
 },
 "nbformat": 4,
 "nbformat_minor": 2
}
